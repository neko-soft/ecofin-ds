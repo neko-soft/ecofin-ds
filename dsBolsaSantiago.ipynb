{
 "cells": [
  {
   "cell_type": "code",
   "execution_count": 1,
   "metadata": {},
   "outputs": [],
   "source": [
    "# Importar librerías\n",
    "\n",
    "import requests\n",
    "from bs4 import BeautifulSoup\n",
    "import pandas as pd\n",
    "from datetime import datetime"
   ]
  },
  {
   "cell_type": "code",
   "execution_count": null,
   "metadata": {},
   "outputs": [],
   "source": [
    "url = pd.read_csv('urls.csv')\n",
    "url = url['urls'].tolist()\n",
    "\n",
    "\n",
    "# Realizamos la solicitud HTTP para obtener el contenido de la página\n",
    "response = requests.get(url[1])\n",
    "\n",
    "# Verificamos si la solicitud fue exitosa (código 200)\n",
    "if response.status_code == 200:\n",
    "    # Analizamos el contenido HTML con BeautifulSoup\n",
    "    soup = BeautifulSoup(response.text, 'html.parser')\n",
    "\n",
    "\n",
    "else:\n",
    "    print(f\"Error al obtener la página, código de estado: {response.status_code}\")\n"
   ]
  },
  {
   "cell_type": "code",
   "execution_count": null,
   "metadata": {},
   "outputs": [],
   "source": [
    "# Ahora, extraemos los precios o cualquier dato que te interese\n",
    "data = []\n",
    "\n",
    "\n",
    "# Suponiendo que el precio está en los <td> con una clase específica\n",
    "# Este es solo un ejemplo, debes ajustar los selectores según el HTML que encuentres\n",
    "for td in soup.find_all(\"td\", class_=\"datatable_cell__LJp3C\"):  # Cambia según la clase que encuentres\n",
    "    precio = td.text.strip()\n",
    "    data.append(precio)\n",
    "\n"
   ]
  },
  {
   "cell_type": "code",
   "execution_count": 24,
   "metadata": {},
   "outputs": [
    {
     "name": "stdout",
     "output_type": "stream",
     "text": [
      "        Fecha   Precio  Variación\n",
      "19 2025-02-24  7311.33      -0.01\n",
      "18 2025-02-25  7316.01       0.06\n",
      "17 2025-02-26  7351.06       0.48\n",
      "16 2025-02-27  7392.85       0.57\n",
      "15 2025-02-28  7332.12      -0.82\n",
      "14 2025-03-03  7344.96       0.18\n",
      "13 2025-03-04  7313.89      -0.42\n",
      "12 2025-03-05  7333.10       0.26\n",
      "11 2025-03-06  7370.32       0.51\n",
      "10 2025-03-07  7377.09       0.09\n",
      "9  2025-03-10  7369.67      -0.10\n",
      "8  2025-03-11  7365.82      -0.05\n",
      "7  2025-03-12  7391.30       0.35\n",
      "6  2025-03-13  7449.87       0.79\n",
      "5  2025-03-14  7509.00       0.79\n",
      "4  2025-03-17  7601.82       1.24\n",
      "3  2025-03-18  7585.61      -0.21\n",
      "2  2025-03-19  7594.95       0.12\n",
      "1  2025-03-20  7575.53      -0.26\n",
      "0  2025-03-21  7585.81       0.14\n"
     ]
    }
   ],
   "source": [
    "\n",
    "# Crear una lista de tuplas de 3 elementos: fecha, precio, variación\n",
    "chunks = [(data[i], data[i+1], data[i+2]) for i in range(0, len(data), 3)]\n",
    "\n",
    "# Convertirlo a un DataFrame\n",
    "df = pd.DataFrame(chunks, columns=['Fecha', 'Precio', 'Variación'])\n",
    "\n",
    "# Convertir la columna 'Fecha' a tipo datetime\n",
    "# Porque de verdad que es asqueroso el formato que usan los gringos\n",
    "# ¿¡Qué es esa aberración de poner Mes - Día - Año!?\n",
    "# O sea, va de mayor a menor a más mayor... que imbecilidad más grande\n",
    "df['Fecha'] = pd.to_datetime(df['Fecha'], format='%b %d, %Y')\n",
    "df['Fecha'] = pd.to_datetime(df['Fecha'], format='%Y-%m-%d')\n",
    "\n",
    "# Convertir la columna 'Precio' a número flotante\n",
    "df['Precio'] = pd.to_numeric(df['Precio'].str.replace(',', ''), errors='coerce')\n",
    "\n",
    "# Convertir la columna 'Variación' a número flotante, eliminando el símbolo '%' y convirtiéndolo a tipo numérico\n",
    "df['Variación'] = df['Variación'].str.replace('%', '').astype(float)\n",
    "\n",
    "# Ordenar de fecha más antigua a más reciente.\n",
    "df = df.sort_values(by='Fecha', ascending=True)\n",
    "print (df)"
   ]
  },
  {
   "cell_type": "code",
   "execution_count": 34,
   "metadata": {},
   "outputs": [
    {
     "name": "stdout",
     "output_type": "stream",
     "text": [
      "       Fecha  Valor IPSA\n",
      "0 1993-09-27      538.01\n",
      "1 1993-09-28      541.05\n",
      "2 1993-09-29      541.05\n",
      "3 1993-09-30      539.48\n",
      "4 1993-10-01      541.61\n"
     ]
    }
   ],
   "source": [
    "ipsaCompleto = pd.read_csv('equities/ipsaCompleto.csv')\n",
    "\n",
    "ipsaCompleto['Fecha'] = pd.to_datetime(ipsaCompleto['Fecha'], format='%Y-%m-%d')\n",
    "\n",
    "# Verificar cómo quedaron las fechas\n",
    "print(ipsaCompleto.head())\n",
    "\n",
    "\n",
    "\n"
   ]
  },
  {
   "cell_type": "code",
   "execution_count": 38,
   "metadata": {},
   "outputs": [
    {
     "name": "stdout",
     "output_type": "stream",
     "text": [
      "Los precios en 2025-02-24 00:00:00 son 7311.33, y están bien con el histórico, que es 7311.33 :D\n",
      "Los precios en 2025-02-25 00:00:00 son 7316.01, y están bien con el histórico, que es 7316.01 :D\n",
      "Los precios en 2025-02-26 00:00:00 son 7351.06, y están bien con el histórico, que es 7351.06 :D\n",
      "Los precios en 2025-02-27 00:00:00 son 7392.85, y están bien con el histórico, que es 7392.85 :D\n",
      "Los precios en 2025-02-28 00:00:00 son 7332.12, y están bien con el histórico, que es 7332.12 :D\n",
      "Los precios en 2025-03-03 00:00:00 son 7344.96, y están bien con el histórico, que es 7344.96 :D\n",
      "Los precios en 2025-03-04 00:00:00 son 7313.89, y están bien con el histórico, que es 7313.89 :D\n",
      "Los precios en 2025-03-05 00:00:00 son 7333.1, y están bien con el histórico, que es 7333.1 :D\n",
      "Los precios en 2025-03-06 00:00:00 son 7370.32, y están bien con el histórico, que es 7370.32 :D\n",
      "Los precios en 2025-03-07 00:00:00 son 7377.09, y están bien con el histórico, que es 7377.09 :D\n",
      "Los precios en 2025-03-10 00:00:00 son 7369.67, y están bien con el histórico, que es 7369.67 :D\n",
      "Los precios en 2025-03-11 00:00:00 son 7365.82, y están bien con el histórico, que es 7365.82 :D\n",
      "Los precios en 2025-03-12 00:00:00 son 7391.3, y están bien con el histórico, que es 7391.3 :D\n",
      "Los precios en 2025-03-13 00:00:00 son 7449.87, y están bien con el histórico, que es 7449.87 :D\n",
      "Los precios en 2025-03-14 00:00:00 son 7509.0, y están bien con el histórico, que es 7509.0 :D\n",
      "Los precios en 2025-03-17 00:00:00 son 7601.82, y están bien con el histórico, que es 7601.82 :D\n",
      "Los precios en 2025-03-18 00:00:00 son 7585.61, y están bien con el histórico, que es 7585.61 :D\n",
      "Los precios en 2025-03-19 00:00:00 son 7594.95, y están bien con el histórico, que es 7594.95 :D\n",
      "Los precios en 2025-03-20 00:00:00 son 7575.53, y están bien con el histórico, que es 7575.53 :D\n",
      "Los precios en 2025-03-21 00:00:00 son 7585.81, y están bien con el histórico, que es 7585.81 :D\n"
     ]
    }
   ],
   "source": [
    "# Asegurarnos de que las fechas de los nuevos datos estén también en formato de fecha\n",
    "#df['Fecha'] = pd.to_datetime(df['Fecha'], format='%Y-%m-%d')\n",
    "\n",
    "\n",
    "# Iterar sobre las fechas de los nuevos datos y buscar si existen en los históricos\n",
    "for _, row in df.iterrows():\n",
    "    # Buscar si la fecha del nuevo DataFrame existe en el histórico\n",
    "    historical_row = ipsaCompleto.loc[ipsaCompleto['Fecha'] == row['Fecha']]\n",
    "\n",
    "    if not historical_row.empty:\n",
    "        # Si encontramos la fecha, comparar los precios\n",
    "        historical_price = historical_row['Valor IPSA'].values[0]\n",
    "        if historical_price != row['Precio']:\n",
    "            print(f\"¡Precio diferente en {row['Fecha']}! Nuevo: {row['Valor IPSA']} - Histórico: {historical_price}\")\n",
    "        else:\n",
    "            print (f\"Los precios en {row['Fecha']} son {row['Precio']}, y están bien con el histórico, que es {historical_price} :D\")\n",
    "    else:\n",
    "        print(f\"¡Fecha {row['Fecha']} no encontrada en los datos históricos!\")"
   ]
  },
  {
   "cell_type": "code",
   "execution_count": null,
   "metadata": {},
   "outputs": [],
   "source": []
  }
 ],
 "metadata": {
  "kernelspec": {
   "display_name": "Python 3 (ipykernel)",
   "language": "python",
   "name": "python3"
  },
  "language_info": {
   "codemirror_mode": {
    "name": "ipython",
    "version": 3
   },
   "file_extension": ".py",
   "mimetype": "text/x-python",
   "name": "python",
   "nbconvert_exporter": "python",
   "pygments_lexer": "ipython3",
   "version": "3.12.9"
  }
 },
 "nbformat": 4,
 "nbformat_minor": 2
}
