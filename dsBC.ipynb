{
 "cells": [
  {
   "cell_type": "code",
   "execution_count": 5,
   "metadata": {},
   "outputs": [],
   "source": [
    "import bcchapi\n",
    "import numpy as np"
   ]
  },
  {
   "cell_type": "code",
   "execution_count": 7,
   "metadata": {},
   "outputs": [
    {
     "data": {
      "application/vnd.microsoft.datawrangler.viewer.v0+json": {
       "columns": [
        {
         "name": "index",
         "rawType": "int64",
         "type": "integer"
        },
        {
         "name": "seriesId",
         "rawType": "object",
         "type": "string"
        },
        {
         "name": "frequencyCode",
         "rawType": "object",
         "type": "string"
        },
        {
         "name": "spanishTitle",
         "rawType": "object",
         "type": "string"
        },
        {
         "name": "englishTitle",
         "rawType": "object",
         "type": "string"
        },
        {
         "name": "firstObservation",
         "rawType": "datetime64[ns]",
         "type": "datetime"
        },
        {
         "name": "lastObservation",
         "rawType": "datetime64[ns]",
         "type": "datetime"
        },
        {
         "name": "updatedAt",
         "rawType": "datetime64[ns]",
         "type": "datetime"
        },
        {
         "name": "createdAt",
         "rawType": "datetime64[ns]",
         "type": "datetime"
        }
       ],
       "conversionMethod": "pd.DataFrame",
       "ref": "7c34722b-de8a-4c68-90fb-957cc0e548c5",
       "rows": [
        [
         "0",
         "F034.BESAN.IND.BCCH.2020.0.D",
         "DAILY",
         "Región de Antofagasta; Boletas electrónicas emitidas en estaciones de servicio. Promedio móvil de 7 días; diaria; Banco Central de Chile",
         "Región de Antofagasta; Electronic bills issued at service stations. 7 day moving average; daily; Central Bank of Chile",
         "2020-01-07 00:00:00",
         "2025-02-28 00:00:00",
         "2025-03-24 00:00:00",
         "2025-03-24 00:00:00"
        ],
        [
         "1",
         "F034.BESOAN.IND.BCCH.2020.0.D",
         "DAILY",
         "Región de Antofagasta; Boletas electrónicas emitidas en estaciones de servicio. Series originales; diaria; Banco Central de Chile",
         "Región de Antofagasta; Electronic bills issued at service stations. Original series; daily; Central Bank of Chile",
         "2020-01-01 00:00:00",
         "2025-02-28 00:00:00",
         "2025-03-24 00:00:00",
         "2025-03-24 00:00:00"
        ],
        [
         "2",
         "F022.CCPEAN.STO.Z.Z.Z.M",
         "MONTHLY",
         "Número de cuentas corrientes de personas naturales en moneda extranjera; Región de Antofagasta; mensual; Comisión para el Mercado Financiero (CMF)",
         "Number of checking accounts in foreign currency owned by natural persons; Region of Antofagasta; monthly; Financial Market Commission (CMF)",
         "2009-01-01 00:00:00",
         "2025-01-01 00:00:00",
         "2025-03-21 00:00:00",
         "2025-03-21 00:00:00"
        ],
        [
         "3",
         "F022.CCPNAN.STO.Z.Z.Z.M",
         "MONTHLY",
         "Número de cuentas corrientes de personas naturales en moneda nacional; Región de Antofagasta; mensual; Comisión para el Mercado Financiero (CMF)",
         "Number of checking accounts in national currency owned by natural persons; Region of Antofagasta; monthly; Financial Market Commission (CMF)",
         "2009-01-01 00:00:00",
         "2025-01-01 00:00:00",
         "2025-03-21 00:00:00",
         "2025-03-21 00:00:00"
        ],
        [
         "4",
         "F022.DCM90AN.TAS.Z.Z.Z.M",
         "MONTHLY",
         "Deuda comercial con mora de 90 días o más; Región de Antofagasta; porcentaje; mensual; Comisión para el Mercado Financiero (CMF)",
         "Commercial debt 90 or more days past due; Region of Antofagasta; percentage; monthly; Financial Market Commission (CMF)",
         "2008-01-01 00:00:00",
         "2024-12-01 00:00:00",
         "2025-03-21 00:00:00",
         "2025-03-21 00:00:00"
        ],
        [
         "5",
         "F022.DCS90AN.TAS.Z.Z.Z.M",
         "MONTHLY",
         "Deuda consumo con mora de 90 días o más; Región de Antofagasta; porcentaje; mensual; Comisión para el Mercado Financiero (CMF)",
         "Consumer debt 90 or more days past due; Region of Antofagasta; percentage; monthly; Financial Market Commission (CMF)",
         "2008-01-01 00:00:00",
         "2024-12-01 00:00:00",
         "2025-03-21 00:00:00",
         "2025-03-21 00:00:00"
        ],
        [
         "6",
         "F022.DV90AN.TAS.Z.Z.Z.M",
         "MONTHLY",
         "Deuda vivienda con mora de 90 días o más; Región de Antofagasta; porcentaje; mensual; Comisión para el Mercado Financiero (CMF)",
         "Housing debt 90 or more days past due; Region of Antofagasta; percentage; monthly; Financial Market Commission (CMF)",
         "2008-01-01 00:00:00",
         "2024-12-01 00:00:00",
         "2025-03-21 00:00:00",
         "2025-03-21 00:00:00"
        ],
        [
         "7",
         "F022.SCCPEAN.STO.Z.Z.CLP.M",
         "MONTHLY",
         "Saldo promedio de cuentas corrientes de personas naturales en moneda extranjera; Región de Antofagasta; mensual; Comisión para el Mercado Financiero (CMF)",
         "Average balance of checking accounts in foreign currency owned by natural persons; Region of Antofagasta; monthly; Financial Market Commission (CMF)",
         "2009-01-01 00:00:00",
         "2025-01-01 00:00:00",
         "2025-03-21 00:00:00",
         "2025-03-21 00:00:00"
        ],
        [
         "8",
         "F022.SCCPNAN.STO.Z.Z.CLP.M",
         "MONTHLY",
         "Saldo promedio de cuentas corrientes de personas naturales en moneda nacional; Región de Antofagasta; mensual; Comisión para el Mercado Financiero (CMF)",
         "Average balance of checking accounts in national currency owned by natural persons; Region of Antofagasta; monthly; Financial Market Commission (CMF)",
         "2009-01-01 00:00:00",
         "2025-01-01 00:00:00",
         "2025-03-21 00:00:00",
         "2025-03-21 00:00:00"
        ],
        [
         "9",
         "F022.SDVAN.STO.Z.Z.CLP.M",
         "MONTHLY",
         "Saldo de cuentas a la vista por región; Región de Antofagasta; mensual; Comisión para el Mercado Financiero (CMF)",
         "Balance of sight deposits by region; Region of Antofagasta; monthly; Financial Market Commission (CMF)",
         "2008-01-01 00:00:00",
         "2025-01-01 00:00:00",
         "2025-03-21 00:00:00",
         "2025-03-21 00:00:00"
        ],
        [
         "10",
         "F049.ASSP.PMT.INE9.RAN.M",
         "MONTHLY",
         "Región de Antofagasta | Empleo categoria : Asalariados(as) del sector privado, ENE (Base 2019=100) | Mercado Laboral y Demografía | Mensual | Miles de personas | Promedios moviles trimestrales | INE",
         "Región de Antofagasta | Employment category: Salaried employees in the private sector, ENE (Base 2019=100) | Labor Market and Demographics | Monthly | Thousands of people | Quarterly moving averages | ",
         null,
         null,
         "2024-09-07 00:00:00",
         "2024-09-05 00:00:00"
        ],
        [
         "11",
         "F049.DES.TAS.INE2.12.M",
         "MONTHLY",
         "Región de Antofagasta",
         "Región of Antofagasta",
         "2010-03-01 00:00:00",
         "2018-12-01 00:00:00",
         "2020-06-15 00:00:00",
         "2020-06-15 00:00:00"
        ],
        [
         "12",
         "F049.DES.TAS.INE9.12.M",
         "MONTHLY",
         "Tasa de desocupación, Región de Antofagasta, mensual INE",
         "Monthly unemployment rate, Región de Antofagasta, INE",
         "2010-03-01 00:00:00",
         "2025-01-01 00:00:00",
         "2025-02-28 00:00:00",
         "2025-02-28 00:00:00"
        ],
        [
         "13",
         "F049.OCU.PMT.INE9.12.M",
         "MONTHLY",
         "Empleo: Región de Antofagasta, Miles de personas, NENE",
         "Employment, Región de Antofagasta, Thousands of people, NENE",
         "2010-03-01 00:00:00",
         "2025-01-01 00:00:00",
         "2025-02-28 00:00:00",
         "2025-02-28 00:00:00"
        ],
        [
         "14",
         "F049.VTR.IND.BCC1.61.M",
         "MONTHLY",
         "Índice de vacantes de trabajo Antofagasta mensual (promedio 1995=100)",
         "Monthly vacancy index (average: 1995=100) - Antofagasta",
         "1986-02-01 00:00:00",
         "2023-02-01 00:00:00",
         "2023-03-20 00:00:00",
         "2023-03-20 00:00:00"
        ],
        [
         "15",
         "F034.CEYSAN.FLU.MEFT.Z.0.M",
         "MONTHLY",
         "Región de Antofagasta, Número de constituciones en registro de empresas y sociedades a nivel regional; mensual;  cantidad; MINECON",
         "Región de Antofagasta; Number of incorporations in the register of companies and companies at the regional level; monthly; amount; MINECON",
         "2013-05-01 00:00:00",
         "2025-01-01 00:00:00",
         "2025-03-07 00:00:00",
         "2025-03-07 00:00:00"
        ],
        [
         "16",
         "F034.DEEAN.FLU.INE.Z.0.M",
         "MONTHLY",
         "Distribución eléctrica, MWh; Región de Antofagasta; mensual; Instituto Nacional de Estadísticas",
         "Power distribution, MWh; Región de Antofagasta; monthly; National Statistics Institute (INE)",
         "2014-01-01 00:00:00",
         "2025-01-01 00:00:00",
         "2025-03-24 00:00:00",
         "2025-03-24 00:00:00"
        ],
        [
         "17",
         "F034.ETADRAN.STO.INE.HIST17.0.M",
         "MONTHLY",
         "Encuesta mensual de alojamiento turístico (EMAT), (ADR) Average daily rate (Tarifa diaria promedio), pesos; Región de Antofagasta; mensual; Instituto Nacional de Estadísticas",
         "Monthly survey of tourist accommodation (EMAT), Average daily rate (ADR), pesos; Región de Antofagasta; monthly; National Statistics Institute (INE)",
         "2016-07-01 00:00:00",
         "2025-01-01 00:00:00",
         "2025-03-24 00:00:00",
         "2025-03-24 00:00:00"
        ],
        [
         "18",
         "F034.ETEMAN.STO.INE.HIST17.0.M",
         "MONTHLY",
         "Encuesta mensual de alojamiento turístico (EMAT), estancia media, noches; Región de Antofagasta; mensual; Instituto Nacional de Estadísticas",
         "Monthly survey of tourist accommodation (EMAT), average stay, nights; Región de Antofagasta; monthly; National Statistics Institute (INE)",
         "2016-07-01 00:00:00",
         "2025-01-01 00:00:00",
         "2025-03-24 00:00:00",
         "2025-03-24 00:00:00"
        ],
        [
         "19",
         "F034.ETLAN.FLU.INE.HIST17.0.M",
         "MONTHLY",
         "Encuesta mensual de alojamiento turístico (EMAT), llegadas, unidades; Región de Antofagasta; mensual; Instituto Nacional de Estadísticas",
         "Monthly survey of tourist accommodation (EMAT), arrivals, units; Región de Antofagasta; monthly; National Statistics Institute (INE)",
         "2016-07-01 00:00:00",
         "2025-01-01 00:00:00",
         "2025-03-24 00:00:00",
         "2025-03-24 00:00:00"
        ],
        [
         "20",
         "F034.ETOPAN.TAS.INE.HIST17.0.M",
         "MONTHLY",
         "Encuesta mensual de alojamiento turístico (EMAT), tasa de ocupación en plazas, porcentaje; Región de Antofagasta; mensual; Instituto Nacional de Estadísticas",
         "Monthly survey of tourist accommodation (EMAT), occupancy rate in places, percentage; Región de Antofagasta; monthly; National Statistics Institute (INE)",
         "2016-07-01 00:00:00",
         "2025-01-01 00:00:00",
         "2025-03-24 00:00:00",
         "2025-03-24 00:00:00"
        ],
        [
         "21",
         "F034.ETPAN.FLU.INE.HIST17.0.M",
         "MONTHLY",
         "Encuesta mensual de alojamiento turístico (EMAT), pernoctaciones, unidades; Región de Antofagasta; mensual; Instituto Nacional de Estadísticas",
         "Monthly survey of tourist accommodation (EMAT), overnight stays, units; Región de Antofagasta; monthly; National Statistics Institute (INE)",
         "2016-07-01 00:00:00",
         "2025-01-01 00:00:00",
         "2025-03-24 00:00:00",
         "2025-03-24 00:00:00"
        ],
        [
         "22",
         "F034.ETRPAN.STO.INE.HIST17.0.M",
         "MONTHLY",
         "Encuesta mensual de alojamiento turístico (EMAT), (RevPar) Revenue per available room (Ingresos por habitación disponible), pesos; Región de Antofagasta; mensual; Instituto Nacional de Estadísticas",
         "Monthly survey of tourist accommodation (EMAT), Revenue per available room (RevPar), pesos; Región de Antofagasta; monthly; National Statistics Institute (INE)",
         "2016-07-01 00:00:00",
         "2025-01-01 00:00:00",
         "2025-03-24 00:00:00",
         "2025-03-24 00:00:00"
        ],
        [
         "23",
         "F034.ETTOHAN.TAS.INE.HIST17.0.M",
         "MONTHLY",
         "Encuesta mensual de alojamiento turístico (EMAT), tasa de ocupación en habitaciones, porcentaje; Región de Antofagasta; mensual; Instituto Nacional de Estadísticas",
         "Monthly survey of tourist accommodation (EMAT), room occupancy rate, percentage; Región de Antofagasta; monthly; National Statistics Institute (INE)",
         "2016-07-01 00:00:00",
         "2025-01-01 00:00:00",
         "2025-03-24 00:00:00",
         "2025-03-24 00:00:00"
        ],
        [
         "24",
         "F034.GEEAN.FLU.INE.Z.0.M",
         "MONTHLY",
         "Generación eléctrica, MWh; Región de Antofagasta; mensual; Instituto Nacional de Estadísticas",
         "Power generation, MWh; Región de Antofagasta; monthly; National Statistics Institute (INE)",
         "2014-01-01 00:00:00",
         "2025-01-01 00:00:00",
         "2025-03-24 00:00:00",
         "2025-03-24 00:00:00"
        ],
        [
         "25",
         "F034.ISUPNEAN.STO.INE.Z.0.M",
         "MONTHLY",
         "Índice de ventas de supermercados (ISUP), número de establecimientos, unidades; Región de Antofagasta; mensual; Instituto Nacional de Estadísticas",
         "Supermarket sales index (ISUP), number of premises, units; Región de Antofagasta; monthly; National Statistics Institute (INE)",
         "2014-01-01 00:00:00",
         "2025-01-01 00:00:00",
         "2025-03-24 00:00:00",
         "2025-03-24 00:00:00"
        ],
        [
         "26",
         "F034.ISUPPCAN.IND.INE.2014.0.M",
         "MONTHLY",
         "Índice de ventas de supermercados (ISUP) a precios constantes, índice; Región de Antofagasta; mensual; Instituto Nacional de Estadísticas",
         "Supermarket sales index (ISUP) at constant prices, index; Región de Antofagasta; monthly; National Statistics Institute (INE)",
         "2014-01-01 00:00:00",
         "2025-01-01 00:00:00",
         "2025-03-24 00:00:00",
         "2025-03-24 00:00:00"
        ],
        [
         "27",
         "F034.ISUPSEAN.STO.INE.Z.0.M",
         "MONTHLY",
         "Índice de ventas de supermercados (ISUP), superficie establecimientos, m2; Región de Antofagasta; mensual; Instituto Nacional de Estadísticas",
         "Supermarket sales index (ISUP), area of premises, m2; Región de Antofagasta; monthly; National Statistics Institute (INE)",
         "2014-01-01 00:00:00",
         "2025-01-01 00:00:00",
         "2025-03-24 00:00:00",
         "2025-03-24 00:00:00"
        ],
        [
         "28",
         "F034.ISUPVPCAN.FLU.INE.Z.0.M",
         "MONTHLY",
         "Índice de ventas de supermercados (ISUP), ventas a precios corrientes, millones de pesos; Región de Antofagasta; mensual; Instituto Nacional de Estadísticas",
         "Supermarket sales index (ISUP), sales at current prices, millions of pesos; Región de Antofagasta; monthly; National Statistics Institute (INE)",
         "2014-01-01 00:00:00",
         "2025-01-01 00:00:00",
         "2025-03-24 00:00:00",
         "2025-03-24 00:00:00"
        ],
        [
         "29",
         "F034.MMAN.IND.INE.2014.0.M",
         "MONTHLY",
         "Minería metálica, índice; Región de Antofagasta; mensual; Instituto Nacional de Estadísticas",
         "Mining of metal ores, index; Región de Antofagasta; monthly; National Statistics Institute (INE)",
         "2014-01-01 00:00:00",
         "2025-01-01 00:00:00",
         "2025-03-24 00:00:00",
         "2025-03-24 00:00:00"
        ],
        [
         "30",
         "F034.MNMAN.IND.INE.2014.0.M",
         "MONTHLY",
         "Minería no metálica, índice; Región de Antofagasta; mensual; Instituto Nacional de Estadísticas",
         "Other mining and quarrying, index; Región de Antofagasta; monthly; National Statistics Institute (INE)",
         "2014-01-01 00:00:00",
         "2025-01-01 00:00:00",
         "2025-03-24 00:00:00",
         "2025-03-24 00:00:00"
        ],
        [
         "31",
         "F034.NVAAN.FLU.INE.Z.0.M",
         "MONTHLY",
         "Número de viviendas autorizadas, unidades; Región de Antofagasta; mensual; Instituto Nacional de Estadísticas",
         "Number of autorized housing units, units; Región de Antofagasta; monthly; National Statistics Institute (INE)",
         "2014-01-01 00:00:00",
         "2025-01-01 00:00:00",
         "2025-03-24 00:00:00",
         "2025-03-24 00:00:00"
        ],
        [
         "32",
         "F034.PMIAN.IND.INE.2014.0.M",
         "MONTHLY",
         "Índice de producción minera, índice; Región de Antofagasta; mensual; Instituto Nacional de Estadísticas",
         "Mining production index, index; Región de Antofagasta; monthly; National Statistics Institute (INE)",
         "2014-01-01 00:00:00",
         "2025-01-01 00:00:00",
         "2025-03-24 00:00:00",
         "2025-03-24 00:00:00"
        ],
        [
         "33",
         "F034.PVBAN.STO.INE.Z.0.M",
         "MONTHLY",
         "Parque vehicular buses, unidades; Región de Antofagasta; mensual; Instituto Nacional de Estadísticas",
         "Bus fleet, units; Región de Antofagasta; monthly; National Statistics Institute (INE)",
         "2014-03-01 00:00:00",
         "2024-12-01 00:00:00",
         "2025-02-24 00:00:00",
         "2025-02-24 00:00:00"
        ],
        [
         "34",
         "F034.PVEAN.STO.INE.Z.0.M",
         "MONTHLY",
         "Parque vehicular escolar, unidades; Región de Antofagasta; mensual; Instituto Nacional de Estadísticas",
         "School transport fleet, units; Región de Antofagasta; monthly; National Statistics Institute (INE)",
         "2014-03-01 00:00:00",
         "2024-12-01 00:00:00",
         "2025-02-24 00:00:00",
         "2025-02-24 00:00:00"
        ],
        [
         "35",
         "F034.PVMBAN.STO.INE.Z.0.M",
         "MONTHLY",
         "Parque vehicular minibuses, unidades; Región de Antofagasta; mensual; Instituto Nacional de Estadísticas",
         "Minibus fleet, units; Región de Antofagasta; monthly; National Statistics Institute (INE)",
         "2014-03-01 00:00:00",
         "2024-12-01 00:00:00",
         "2025-02-24 00:00:00",
         "2025-02-24 00:00:00"
        ],
        [
         "36",
         "F034.PVTAN.STO.INE.Z.0.M",
         "MONTHLY",
         "Parque vehicular taxis, unidades; Región de Antofagasta; mensual; Instituto Nacional de Estadísticas",
         "Taxi fleet, units; Región de Antofagasta; monthly; National Statistics Institute (INE)",
         "2014-03-01 00:00:00",
         "2024-12-01 00:00:00",
         "2025-02-24 00:00:00",
         "2025-02-24 00:00:00"
        ],
        [
         "37",
         "F034.SAHAN.FLU.INE.Z.0.M",
         "MONTHLY",
         "Superficie autorizada habitacional, m2; Región de Antofagasta; mensual; Instituto Nacional de Estadísticas",
         "Authorized area for housing projects, m2; Región de Antofagasta; monthly; National Statistics Institute (INE)",
         "2014-01-01 00:00:00",
         "2025-01-01 00:00:00",
         "2025-03-24 00:00:00",
         "2025-03-24 00:00:00"
        ],
        [
         "38",
         "F034.SANHAN.FLU.INE.Z.0.M",
         "MONTHLY",
         "Superficie autorizada no habitacional, m2; Región de Antofagasta; mensual; Instituto Nacional de Estadísticas",
         "Authorized area for nonhousing projects, m2; Región de Antofagasta; monthly; National Statistics Institute (INE)",
         "2014-01-01 00:00:00",
         "2025-01-01 00:00:00",
         "2025-03-24 00:00:00",
         "2025-03-24 00:00:00"
        ],
        [
         "39",
         "F035.CVRC.FLU.Z.CLP.Z.Z.Z.Z.02.0.M",
         "MONTHLY",
         "Compra regional (monto) | compraventas regionales según región de venta y de compra. región de antofagasta  |  | flujo | mensual | miles de millones de pesos | Banco Central de Chile | ",
         "Regional purchase (amount) | regional sales by region of sale and purchase. region de antofagasta   |  | flow | monthly | billions of pesos | Central Bank of Chile | ",
         "2018-01-01 00:00:00",
         "2025-02-01 00:00:00",
         "2025-03-24 00:00:00",
         "2025-03-24 00:00:00"
        ],
        [
         "40",
         "F035.CVRCITA.FLU.Z.CLP.Z.Z.Z.Z.02.0.M",
         "MONTHLY",
         "Intra-regional | compra regional (monto), compraventas regionales según región de venta y de compra. región de antofagasta  |  | flujo | mensual | miles de millones de pesos | Banco Central de Chile | ",
         "Intra-regional | regional purchase (amount), regional sales by region of sale and purchase. region de antofagasta   |  | flow | monthly | billions of pesos | Central Bank of Chile | ",
         "2018-01-01 00:00:00",
         "2025-02-01 00:00:00",
         "2025-03-24 00:00:00",
         "2025-03-24 00:00:00"
        ],
        [
         "41",
         "F035.CVRCITE.FLU.Z.CLP.Z.Z.Z.Z.02.0.M",
         "MONTHLY",
         "Inter-regional | compra regional (monto), compraventas regionales según región de venta y de compra. región de antofagasta  |  | flujo | mensual | miles de millones de pesos | Banco Central de Chile | ",
         "Inter-regional | regional purchase (amount), regional sales by region of sale and purchase. region de antofagasta   |  | flow | monthly | billions of pesos | Central Bank of Chile | ",
         "2018-01-01 00:00:00",
         "2025-02-01 00:00:00",
         "2025-03-24 00:00:00",
         "2025-03-24 00:00:00"
        ],
        [
         "42",
         "F035.CVRV.FLU.Z.CLP.Z.Z.Z.Z.02.0.M",
         "MONTHLY",
         "Venta regional (monto) | compraventas regionales según región de venta y de compra. región de antofagasta  |  | flujo | mensual | miles de millones de pesos | Banco Central de Chile | ",
         "Regional sale (amount) | regional sales by region of sale and purchase. region de antofagasta   |  | flow | monthly | billions of pesos | Central Bank of Chile | ",
         "2018-01-01 00:00:00",
         "2025-02-01 00:00:00",
         "2025-03-24 00:00:00",
         "2025-03-24 00:00:00"
        ],
        [
         "43",
         "F035.CVRVITA.FLU.Z.CLP.Z.Z.Z.Z.02.0.M",
         "MONTHLY",
         "Intra-regional | venta regional (monto), compraventas regionales según región de venta y de compra. región de antofagasta  |  | flujo | mensual | miles de millones de pesos | Banco Central de Chile | ",
         "Intra-regional | regional sale (amount), regional sales by region of sale and purchase. region de antofagasta   |  | flow | monthly | billions of pesos | Central Bank of Chile | ",
         "2018-01-01 00:00:00",
         "2025-02-01 00:00:00",
         "2025-03-24 00:00:00",
         "2025-03-24 00:00:00"
        ],
        [
         "44",
         "F035.CVRVITE.FLU.Z.CLP.Z.Z.Z.Z.02.0.M",
         "MONTHLY",
         "Inter-regional | venta regional (monto), compraventas regionales según región de venta y de compra. región de antofagasta  |  | flujo | mensual | miles de millones de pesos | Banco Central de Chile | ",
         "Inter-regional | regional sale (amount), regional sales by region of sale and purchase. region de antofagasta   |  | flow | monthly | billions of pesos | Central Bank of Chile | ",
         "2018-01-01 00:00:00",
         "2025-02-01 00:00:00",
         "2025-03-24 00:00:00",
         "2025-03-24 00:00:00"
        ],
        [
         "45",
         "F035.NFRC.FLU.Z.N.Z.Z.Z.Z.02.0.M",
         "MONTHLY",
         "Compra región (cantidad de facturas recibidas) | compraventas regionales según región de venta y de compra. región de antofagasta  |  | flujo | mensual | miles de unidades | Banco Central de Chile | ",
         "Purchase region (number of invoices received) | regional sales by region of sale and purchase. region de antofagasta   |  | flow | monthly | thousands of units | Central Bank of Chile | ",
         "2018-01-01 00:00:00",
         "2025-02-01 00:00:00",
         "2025-03-24 00:00:00",
         "2025-03-24 00:00:00"
        ],
        [
         "46",
         "F035.NFRCITA.FLU.Z.N.Z.Z.Z.Z.02.0.M",
         "MONTHLY",
         "Intra-regional | compra región (cantidad de facturas recibidas), compraventas regionales según región de venta y de compra. región de antofagasta  |  | flujo | mensual | miles de unidades | Banco Central de Chile | ",
         "Intra-regional | purchase region (number of invoices received), regional sales by region of sale and purchase. region de antofagasta   |  | flow | monthly | thousands of units | Central Bank of Chile | ",
         "2018-01-01 00:00:00",
         "2025-02-01 00:00:00",
         "2025-03-24 00:00:00",
         "2025-03-24 00:00:00"
        ],
        [
         "47",
         "F035.NFRCITE.FLU.Z.N.Z.Z.Z.Z.02.0.M",
         "MONTHLY",
         "Inter-regional | compra región (cantidad de facturas recibidas), compraventas regionales según región de venta y de compra. región de antofagasta  |  | flujo | mensual | miles de unidades | Banco Central de Chile | ",
         "Inter-regional | purchase region (number of invoices received), regional sales by region of sale and purchase. region de antofagasta   |  | flow | monthly | thousands of units | Central Bank of Chile | ",
         "2018-01-01 00:00:00",
         "2025-02-01 00:00:00",
         "2025-03-24 00:00:00",
         "2025-03-24 00:00:00"
        ],
        [
         "48",
         "F035.NFRV.FLU.Z.N.Z.Z.Z.Z.02.0.M",
         "MONTHLY",
         "Venta regional (cantidad de facturas emitidas) | compraventas regionales según región de venta y de compra. región de antofagasta  |  | flujo | mensual | miles de unidades | Banco Central de Chile | ",
         "Regional sale (number of invoices issued) | regional sales by region of sale and purchase. region de antofagasta   |  | flow | monthly | thousands of units | Central Bank of Chile | ",
         "2018-01-01 00:00:00",
         "2025-02-01 00:00:00",
         "2025-03-24 00:00:00",
         "2025-03-24 00:00:00"
        ],
        [
         "49",
         "F035.NFRVITA.FLU.Z.N.Z.Z.Z.Z.02.0.M",
         "MONTHLY",
         "Intra-regional | venta regional (cantidad de facturas emitidas), compraventas regionales según región de venta y de compra. región de antofagasta  |  | flujo | mensual | miles de unidades | Banco Central de Chile | ",
         "Intra-regional | regional sale (number of invoices issued), regional sales by region of sale and purchase. region de antofagasta   |  | flow | monthly | thousands of units | Central Bank of Chile | ",
         "2018-01-01 00:00:00",
         "2025-02-01 00:00:00",
         "2025-03-24 00:00:00",
         "2025-03-24 00:00:00"
        ]
       ],
       "shape": {
        "columns": 8,
        "rows": 182
       }
      },
      "text/html": [
       "<div>\n",
       "<style scoped>\n",
       "    .dataframe tbody tr th:only-of-type {\n",
       "        vertical-align: middle;\n",
       "    }\n",
       "\n",
       "    .dataframe tbody tr th {\n",
       "        vertical-align: top;\n",
       "    }\n",
       "\n",
       "    .dataframe thead th {\n",
       "        text-align: right;\n",
       "    }\n",
       "</style>\n",
       "<table border=\"1\" class=\"dataframe\">\n",
       "  <thead>\n",
       "    <tr style=\"text-align: right;\">\n",
       "      <th></th>\n",
       "      <th>seriesId</th>\n",
       "      <th>frequencyCode</th>\n",
       "      <th>spanishTitle</th>\n",
       "      <th>englishTitle</th>\n",
       "      <th>firstObservation</th>\n",
       "      <th>lastObservation</th>\n",
       "      <th>updatedAt</th>\n",
       "      <th>createdAt</th>\n",
       "    </tr>\n",
       "  </thead>\n",
       "  <tbody>\n",
       "    <tr>\n",
       "      <th>0</th>\n",
       "      <td>F034.BESAN.IND.BCCH.2020.0.D</td>\n",
       "      <td>DAILY</td>\n",
       "      <td>Región de Antofagasta; Boletas electrónicas em...</td>\n",
       "      <td>Región de Antofagasta; Electronic bills issued...</td>\n",
       "      <td>2020-01-07</td>\n",
       "      <td>2025-02-28</td>\n",
       "      <td>2025-03-24</td>\n",
       "      <td>2025-03-24</td>\n",
       "    </tr>\n",
       "    <tr>\n",
       "      <th>1</th>\n",
       "      <td>F034.BESOAN.IND.BCCH.2020.0.D</td>\n",
       "      <td>DAILY</td>\n",
       "      <td>Región de Antofagasta; Boletas electrónicas em...</td>\n",
       "      <td>Región de Antofagasta; Electronic bills issued...</td>\n",
       "      <td>2020-01-01</td>\n",
       "      <td>2025-02-28</td>\n",
       "      <td>2025-03-24</td>\n",
       "      <td>2025-03-24</td>\n",
       "    </tr>\n",
       "    <tr>\n",
       "      <th>2</th>\n",
       "      <td>F022.CCPEAN.STO.Z.Z.Z.M</td>\n",
       "      <td>MONTHLY</td>\n",
       "      <td>Número de cuentas corrientes de personas natur...</td>\n",
       "      <td>Number of checking accounts in foreign currenc...</td>\n",
       "      <td>2009-01-01</td>\n",
       "      <td>2025-01-01</td>\n",
       "      <td>2025-03-21</td>\n",
       "      <td>2025-03-21</td>\n",
       "    </tr>\n",
       "    <tr>\n",
       "      <th>3</th>\n",
       "      <td>F022.CCPNAN.STO.Z.Z.Z.M</td>\n",
       "      <td>MONTHLY</td>\n",
       "      <td>Número de cuentas corrientes de personas natur...</td>\n",
       "      <td>Number of checking accounts in national curren...</td>\n",
       "      <td>2009-01-01</td>\n",
       "      <td>2025-01-01</td>\n",
       "      <td>2025-03-21</td>\n",
       "      <td>2025-03-21</td>\n",
       "    </tr>\n",
       "    <tr>\n",
       "      <th>4</th>\n",
       "      <td>F022.DCM90AN.TAS.Z.Z.Z.M</td>\n",
       "      <td>MONTHLY</td>\n",
       "      <td>Deuda comercial con mora de 90 días o más; Reg...</td>\n",
       "      <td>Commercial debt 90 or more days past due; Regi...</td>\n",
       "      <td>2008-01-01</td>\n",
       "      <td>2024-12-01</td>\n",
       "      <td>2025-03-21</td>\n",
       "      <td>2025-03-21</td>\n",
       "    </tr>\n",
       "    <tr>\n",
       "      <th>...</th>\n",
       "      <td>...</td>\n",
       "      <td>...</td>\n",
       "      <td>...</td>\n",
       "      <td>...</td>\n",
       "      <td>...</td>\n",
       "      <td>...</td>\n",
       "      <td>...</td>\n",
       "      <td>...</td>\n",
       "    </tr>\n",
       "    <tr>\n",
       "      <th>177</th>\n",
       "      <td>F035.PIB.V12.R.CLP.2018.CONT.Z.Z.02.0.T</td>\n",
       "      <td>QUARTERLY</td>\n",
       "      <td>PIB Regional, Región de Antofagasta, contribuc...</td>\n",
       "      <td>Regional GDP, Region of Antofagasta, contribut...</td>\n",
       "      <td>2014-01-01</td>\n",
       "      <td>2024-07-01</td>\n",
       "      <td>2024-12-23</td>\n",
       "      <td>2024-12-23</td>\n",
       "    </tr>\n",
       "    <tr>\n",
       "      <th>178</th>\n",
       "      <td>F035.PIB.V12.R.CLP.2018.PB.Z.Z.02.0.T</td>\n",
       "      <td>QUARTERLY</td>\n",
       "      <td>PIB Producción de bienes, Región de Antofagast...</td>\n",
       "      <td>Goods GDP, Region of Antofagasta, contribution...</td>\n",
       "      <td>2014-01-01</td>\n",
       "      <td>2024-07-01</td>\n",
       "      <td>2024-12-23</td>\n",
       "      <td>2024-12-23</td>\n",
       "    </tr>\n",
       "    <tr>\n",
       "      <th>179</th>\n",
       "      <td>F035.PIB.V12.R.CLP.2018.RB.Z.Z.02.0.T</td>\n",
       "      <td>QUARTERLY</td>\n",
       "      <td>PIB Resto de bienes, Región de Antofagasta, co...</td>\n",
       "      <td>Other goods GDP, Region of Antofagasta, contri...</td>\n",
       "      <td>2014-01-01</td>\n",
       "      <td>2024-07-01</td>\n",
       "      <td>2024-12-23</td>\n",
       "      <td>2024-12-23</td>\n",
       "    </tr>\n",
       "    <tr>\n",
       "      <th>180</th>\n",
       "      <td>F035.PIB.V12.R.CLP.2018.SERV.Z.Z.02.0.T</td>\n",
       "      <td>QUARTERLY</td>\n",
       "      <td>PIB Servicios, Región de Antofagasta, contribu...</td>\n",
       "      <td>Services GDP, Region of Antofagasta, contribut...</td>\n",
       "      <td>2014-01-01</td>\n",
       "      <td>2024-07-01</td>\n",
       "      <td>2024-12-23</td>\n",
       "      <td>2024-12-23</td>\n",
       "    </tr>\n",
       "    <tr>\n",
       "      <th>181</th>\n",
       "      <td>F035.PIB.V12.R.CLP.2018.Z.Z.Z.02.0.T</td>\n",
       "      <td>QUARTERLY</td>\n",
       "      <td>PIB Región de Antofagasta, contribución porcen...</td>\n",
       "      <td>GDP,  Region of Antofagasta, contribution comp...</td>\n",
       "      <td>2014-01-01</td>\n",
       "      <td>2024-07-01</td>\n",
       "      <td>2024-12-23</td>\n",
       "      <td>2024-12-23</td>\n",
       "    </tr>\n",
       "  </tbody>\n",
       "</table>\n",
       "<p>182 rows × 8 columns</p>\n",
       "</div>"
      ],
      "text/plain": [
       "                                    seriesId frequencyCode  \\\n",
       "0               F034.BESAN.IND.BCCH.2020.0.D         DAILY   \n",
       "1              F034.BESOAN.IND.BCCH.2020.0.D         DAILY   \n",
       "2                    F022.CCPEAN.STO.Z.Z.Z.M       MONTHLY   \n",
       "3                    F022.CCPNAN.STO.Z.Z.Z.M       MONTHLY   \n",
       "4                   F022.DCM90AN.TAS.Z.Z.Z.M       MONTHLY   \n",
       "..                                       ...           ...   \n",
       "177  F035.PIB.V12.R.CLP.2018.CONT.Z.Z.02.0.T     QUARTERLY   \n",
       "178    F035.PIB.V12.R.CLP.2018.PB.Z.Z.02.0.T     QUARTERLY   \n",
       "179    F035.PIB.V12.R.CLP.2018.RB.Z.Z.02.0.T     QUARTERLY   \n",
       "180  F035.PIB.V12.R.CLP.2018.SERV.Z.Z.02.0.T     QUARTERLY   \n",
       "181     F035.PIB.V12.R.CLP.2018.Z.Z.Z.02.0.T     QUARTERLY   \n",
       "\n",
       "                                          spanishTitle  \\\n",
       "0    Región de Antofagasta; Boletas electrónicas em...   \n",
       "1    Región de Antofagasta; Boletas electrónicas em...   \n",
       "2    Número de cuentas corrientes de personas natur...   \n",
       "3    Número de cuentas corrientes de personas natur...   \n",
       "4    Deuda comercial con mora de 90 días o más; Reg...   \n",
       "..                                                 ...   \n",
       "177  PIB Regional, Región de Antofagasta, contribuc...   \n",
       "178  PIB Producción de bienes, Región de Antofagast...   \n",
       "179  PIB Resto de bienes, Región de Antofagasta, co...   \n",
       "180  PIB Servicios, Región de Antofagasta, contribu...   \n",
       "181  PIB Región de Antofagasta, contribución porcen...   \n",
       "\n",
       "                                          englishTitle firstObservation  \\\n",
       "0    Región de Antofagasta; Electronic bills issued...       2020-01-07   \n",
       "1    Región de Antofagasta; Electronic bills issued...       2020-01-01   \n",
       "2    Number of checking accounts in foreign currenc...       2009-01-01   \n",
       "3    Number of checking accounts in national curren...       2009-01-01   \n",
       "4    Commercial debt 90 or more days past due; Regi...       2008-01-01   \n",
       "..                                                 ...              ...   \n",
       "177  Regional GDP, Region of Antofagasta, contribut...       2014-01-01   \n",
       "178  Goods GDP, Region of Antofagasta, contribution...       2014-01-01   \n",
       "179  Other goods GDP, Region of Antofagasta, contri...       2014-01-01   \n",
       "180  Services GDP, Region of Antofagasta, contribut...       2014-01-01   \n",
       "181  GDP,  Region of Antofagasta, contribution comp...       2014-01-01   \n",
       "\n",
       "    lastObservation  updatedAt  createdAt  \n",
       "0        2025-02-28 2025-03-24 2025-03-24  \n",
       "1        2025-02-28 2025-03-24 2025-03-24  \n",
       "2        2025-01-01 2025-03-21 2025-03-21  \n",
       "3        2025-01-01 2025-03-21 2025-03-21  \n",
       "4        2024-12-01 2025-03-21 2025-03-21  \n",
       "..              ...        ...        ...  \n",
       "177      2024-07-01 2024-12-23 2024-12-23  \n",
       "178      2024-07-01 2024-12-23 2024-12-23  \n",
       "179      2024-07-01 2024-12-23 2024-12-23  \n",
       "180      2024-07-01 2024-12-23 2024-12-23  \n",
       "181      2024-07-01 2024-12-23 2024-12-23  \n",
       "\n",
       "[182 rows x 8 columns]"
      ]
     },
     "execution_count": 7,
     "metadata": {},
     "output_type": "execute_result"
    }
   ],
   "source": [
    "siete = bcchapi.Siete(file=\"credenciales.txt\")\n",
    "siete.buscar(\"antofagasta\")"
   ]
  },
  {
   "cell_type": "code",
   "execution_count": 13,
   "metadata": {},
   "outputs": [
    {
     "name": "stderr",
     "output_type": "stream",
     "text": [
      "/nix/store/i7nz6vjrswlq1pyddlil55rvksd3j8j4-python3-3.12.9-env/lib/python3.12/site-packages/bcchapi/siete.py:133: FutureWarning: The provided callable <function mean at 0x7ffff0102340> is currently using SeriesGroupBy.mean. In a future version of pandas, the provided callable will be used directly. To keep current behavior pass the string \"mean\" instead.\n",
      "  df = resampled.aggregate(observed, **aggregate_kw)\n",
      "/nix/store/i7nz6vjrswlq1pyddlil55rvksd3j8j4-python3-3.12.9-env/lib/python3.12/site-packages/bcchapi/siete.py:143: FutureWarning: The default fill_method='pad' in DataFrame.pct_change is deprecated and will be removed in a future version. Either fill in any non-leading NA values prior to calling pct_change or specify 'fill_method=None' to not fill NA values.\n",
      "  df = df.pct_change(freq=freq)\n"
     ]
    },
    {
     "data": {
      "application/vnd.microsoft.datawrangler.viewer.v0+json": {
       "columns": [
        {
         "name": "index",
         "rawType": "datetime64[ns]",
         "type": "datetime"
        },
        {
         "name": "imacec",
         "rawType": "float64",
         "type": "float"
        },
        {
         "name": "ipc",
         "rawType": "float64",
         "type": "float"
        }
       ],
       "conversionMethod": "pd.DataFrame",
       "ref": "324a81ce-5beb-4336-9ad4-0d603e2cc49a",
       "rows": [
        [
         "2010-01-01 00:00:00",
         null,
         null
        ],
        [
         "2010-01-02 00:00:00",
         null,
         null
        ],
        [
         "2010-01-03 00:00:00",
         null,
         null
        ],
        [
         "2010-01-04 00:00:00",
         null,
         null
        ],
        [
         "2010-01-05 00:00:00",
         null,
         null
        ],
        [
         "2010-01-06 00:00:00",
         null,
         null
        ],
        [
         "2010-01-07 00:00:00",
         null,
         null
        ],
        [
         "2010-01-08 00:00:00",
         null,
         null
        ],
        [
         "2010-01-09 00:00:00",
         null,
         null
        ],
        [
         "2010-01-10 00:00:00",
         null,
         null
        ],
        [
         "2010-01-11 00:00:00",
         null,
         null
        ],
        [
         "2010-01-12 00:00:00",
         null,
         null
        ],
        [
         "2010-01-13 00:00:00",
         null,
         null
        ],
        [
         "2010-01-14 00:00:00",
         null,
         null
        ],
        [
         "2010-01-15 00:00:00",
         null,
         null
        ],
        [
         "2010-01-16 00:00:00",
         null,
         null
        ],
        [
         "2010-01-17 00:00:00",
         null,
         null
        ],
        [
         "2010-01-18 00:00:00",
         null,
         null
        ],
        [
         "2010-01-19 00:00:00",
         null,
         null
        ],
        [
         "2010-01-20 00:00:00",
         null,
         null
        ],
        [
         "2010-01-21 00:00:00",
         null,
         null
        ],
        [
         "2010-01-22 00:00:00",
         null,
         null
        ],
        [
         "2010-01-23 00:00:00",
         null,
         null
        ],
        [
         "2010-01-24 00:00:00",
         null,
         null
        ],
        [
         "2010-01-25 00:00:00",
         null,
         null
        ],
        [
         "2010-01-26 00:00:00",
         null,
         null
        ],
        [
         "2010-01-27 00:00:00",
         null,
         null
        ],
        [
         "2010-01-28 00:00:00",
         null,
         null
        ],
        [
         "2010-01-29 00:00:00",
         null,
         null
        ],
        [
         "2010-01-30 00:00:00",
         null,
         null
        ],
        [
         "2010-01-31 00:00:00",
         null,
         null
        ],
        [
         "2010-02-01 00:00:00",
         "-0.03717496401811338",
         "0.0028099742263765215"
        ],
        [
         "2010-02-02 00:00:00",
         "-0.03717496401811338",
         "0.0028099742263765215"
        ],
        [
         "2010-02-03 00:00:00",
         "-0.03717496401811338",
         "0.0028099742263765215"
        ],
        [
         "2010-02-04 00:00:00",
         "-0.03717496401811338",
         "0.0028099742263765215"
        ],
        [
         "2010-02-05 00:00:00",
         "-0.03717496401811338",
         "0.0028099742263765215"
        ],
        [
         "2010-02-06 00:00:00",
         "-0.03717496401811338",
         "0.0028099742263765215"
        ],
        [
         "2010-02-07 00:00:00",
         "-0.03717496401811338",
         "0.0028099742263765215"
        ],
        [
         "2010-02-08 00:00:00",
         "-0.03717496401811338",
         "0.0028099742263765215"
        ],
        [
         "2010-02-09 00:00:00",
         "-0.03717496401811338",
         "0.0028099742263765215"
        ],
        [
         "2010-02-10 00:00:00",
         "-0.03717496401811338",
         "0.0028099742263765215"
        ],
        [
         "2010-02-11 00:00:00",
         "-0.03717496401811338",
         "0.0028099742263765215"
        ],
        [
         "2010-02-12 00:00:00",
         "-0.03717496401811338",
         "0.0028099742263765215"
        ],
        [
         "2010-02-13 00:00:00",
         "-0.03717496401811338",
         "0.0028099742263765215"
        ],
        [
         "2010-02-14 00:00:00",
         "-0.03717496401811338",
         "0.0028099742263765215"
        ],
        [
         "2010-02-15 00:00:00",
         "-0.03717496401811338",
         "0.0028099742263765215"
        ],
        [
         "2010-02-16 00:00:00",
         "-0.03717496401811338",
         "0.0028099742263765215"
        ],
        [
         "2010-02-17 00:00:00",
         "-0.03717496401811338",
         "0.0028099742263765215"
        ],
        [
         "2010-02-18 00:00:00",
         "-0.03717496401811338",
         "0.0028099742263765215"
        ],
        [
         "2010-02-19 00:00:00",
         "-0.03717496401811338",
         "0.0028099742263765215"
        ]
       ],
       "shape": {
        "columns": 2,
        "rows": 3988
       }
      },
      "text/html": [
       "<div>\n",
       "<style scoped>\n",
       "    .dataframe tbody tr th:only-of-type {\n",
       "        vertical-align: middle;\n",
       "    }\n",
       "\n",
       "    .dataframe tbody tr th {\n",
       "        vertical-align: top;\n",
       "    }\n",
       "\n",
       "    .dataframe thead th {\n",
       "        text-align: right;\n",
       "    }\n",
       "</style>\n",
       "<table border=\"1\" class=\"dataframe\">\n",
       "  <thead>\n",
       "    <tr style=\"text-align: right;\">\n",
       "      <th></th>\n",
       "      <th>imacec</th>\n",
       "      <th>ipc</th>\n",
       "    </tr>\n",
       "  </thead>\n",
       "  <tbody>\n",
       "    <tr>\n",
       "      <th>2010-01-01</th>\n",
       "      <td>NaN</td>\n",
       "      <td>NaN</td>\n",
       "    </tr>\n",
       "    <tr>\n",
       "      <th>2010-01-02</th>\n",
       "      <td>NaN</td>\n",
       "      <td>NaN</td>\n",
       "    </tr>\n",
       "    <tr>\n",
       "      <th>2010-01-03</th>\n",
       "      <td>NaN</td>\n",
       "      <td>NaN</td>\n",
       "    </tr>\n",
       "    <tr>\n",
       "      <th>2010-01-04</th>\n",
       "      <td>NaN</td>\n",
       "      <td>NaN</td>\n",
       "    </tr>\n",
       "    <tr>\n",
       "      <th>2010-01-05</th>\n",
       "      <td>NaN</td>\n",
       "      <td>NaN</td>\n",
       "    </tr>\n",
       "    <tr>\n",
       "      <th>...</th>\n",
       "      <td>...</td>\n",
       "      <td>...</td>\n",
       "    </tr>\n",
       "    <tr>\n",
       "      <th>2020-11-27</th>\n",
       "      <td>0.052357</td>\n",
       "      <td>-0.001372</td>\n",
       "    </tr>\n",
       "    <tr>\n",
       "      <th>2020-11-28</th>\n",
       "      <td>0.052357</td>\n",
       "      <td>-0.001372</td>\n",
       "    </tr>\n",
       "    <tr>\n",
       "      <th>2020-11-29</th>\n",
       "      <td>0.052357</td>\n",
       "      <td>-0.001372</td>\n",
       "    </tr>\n",
       "    <tr>\n",
       "      <th>2020-11-30</th>\n",
       "      <td>0.052357</td>\n",
       "      <td>-0.001372</td>\n",
       "    </tr>\n",
       "    <tr>\n",
       "      <th>2020-12-01</th>\n",
       "      <td>0.091552</td>\n",
       "      <td>0.003379</td>\n",
       "    </tr>\n",
       "  </tbody>\n",
       "</table>\n",
       "<p>3988 rows × 2 columns</p>\n",
       "</div>"
      ],
      "text/plain": [
       "              imacec       ipc\n",
       "2010-01-01       NaN       NaN\n",
       "2010-01-02       NaN       NaN\n",
       "2010-01-03       NaN       NaN\n",
       "2010-01-04       NaN       NaN\n",
       "2010-01-05       NaN       NaN\n",
       "...              ...       ...\n",
       "2020-11-27  0.052357 -0.001372\n",
       "2020-11-28  0.052357 -0.001372\n",
       "2020-11-29  0.052357 -0.001372\n",
       "2020-11-30  0.052357 -0.001372\n",
       "2020-12-01  0.091552  0.003379\n",
       "\n",
       "[3988 rows x 2 columns]"
      ]
     },
     "execution_count": 13,
     "metadata": {},
     "output_type": "execute_result"
    }
   ],
   "source": [
    "siete.cuadro(\n",
    "  series=[\"F032.IMC.IND.Z.Z.EP18.Z.Z.0.M\", \"G073.IPC.IND.2018.M\"],\n",
    "  nombres = [\"imacec\", \"ipc\"],\n",
    "  desde=\"2010-01-01\",\n",
    "  hasta=\"2020-12-01\",\n",
    "  variacion=1,\n",
    "  frecuencia=\"D\",\n",
    "  observado={\"imacec\":np.mean, \"ipc\":\"last\"}\n",
    ")"
   ]
  },
  {
   "cell_type": "code",
   "execution_count": 11,
   "metadata": {},
   "outputs": [
    {
     "name": "stdout",
     "output_type": "stream",
     "text": [
      "<bcchapi.siete.Siete object at 0x7ffff44161b0>\n"
     ]
    }
   ],
   "source": [
    "print(siete)"
   ]
  },
  {
   "cell_type": "code",
   "execution_count": null,
   "metadata": {},
   "outputs": [],
   "source": []
  }
 ],
 "metadata": {
  "kernelspec": {
   "display_name": "Python 3 (ipykernel)",
   "language": "python",
   "name": "python3"
  },
  "language_info": {
   "codemirror_mode": {
    "name": "ipython",
    "version": 3
   },
   "file_extension": ".py",
   "mimetype": "text/x-python",
   "name": "python",
   "nbconvert_exporter": "python",
   "pygments_lexer": "ipython3",
   "version": "3.12.9"
  }
 },
 "nbformat": 4,
 "nbformat_minor": 2
}
